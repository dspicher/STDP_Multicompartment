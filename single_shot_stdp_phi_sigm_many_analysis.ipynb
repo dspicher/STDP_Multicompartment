{
 "metadata": {
  "signature": "sha256:dbea88609929dae37df34b896c807ad9b94b1947929e2d6c29ca0a41a86e27a7"
 },
 "nbformat": 3,
 "nbformat_minor": 0,
 "worksheets": [
  {
   "cells": [
    {
     "cell_type": "markdown",
     "metadata": {},
     "source": [
      "| Field | Value |\n",
      "|-|-|\n",
      "| simulation file | single_shot_stdp_phi_sigm_many.py |\n",
      "| result files prefix | single_shot_stdp_phi_sigm_many |\n",
      "| # result files | 6\\*9\\*3\\*1\\*1\\*1\\*10 = 1620 |\n",
      "| simulation start | 2015-02-12 14:47:44 |\n",
      "| simulation end | 2015-02-12 15:05:34 |\n",
      "| duration | 0:17:50 |\n",
      "| repository | https://github.com/dspicher/py_stdp |\n",
      "| revision hash | [a0db1f3a6544a0071d969d96d5f2072e517de211](https://github.com/dspicher/py_stdp/tree/a0db1f3a6544a0071d969d96d5f2072e517de211) |"
     ]
    },
    {
     "cell_type": "markdown",
     "metadata": {},
     "source": [
      "### Results\n",
      "<font color='grey'>n/a</font>\n",
      "\n",
      "### Conclusion\n",
      "<font color='grey'>n/a</font>"
     ]
    },
    {
     "cell_type": "code",
     "collapsed": false,
     "input": [
      "%pylab inline\n",
      "import cPickle\n",
      "from helper import PeriodicAccumulator, BooleanAccumulator\n",
      "from itertools import product"
     ],
     "language": "python",
     "metadata": {},
     "outputs": [
      {
       "output_type": "stream",
       "stream": "stdout",
       "text": [
        "Populating the interactive namespace from numpy and matplotlib\n"
       ]
      }
     ],
     "prompt_number": 1
    },
    {
     "cell_type": "code",
     "collapsed": false,
     "input": [
      "def get(alpha, beta, r_max, thresh, tau_ref_0, theta_0, delta):\n",
      "    return cPickle.load(open('single_shot_stdp_phi_sigm_many_alpha_{0}_beta_{1}_r_max_{2}_thresh_{3}_tau_ref_0_{4}_theta_0_{5}_delta_{6}.p'.format(alpha, beta, r_max, thresh, tau_ref_0, theta_0, delta),'rb'))\n",
      "\n",
      "\n",
      "alpha_s = array([-65., -62., -59., -56., -53., -50.])\n",
      "beta_s = array([ 0.3 ,  0.35,  0.4 ,  0.45,  0.5 ,  0.55,  0.6 ,  0.65,  0.7 ])\n",
      "r_max_s = [0.05, 0.1, 0.2]\n",
      "thresh_s = [-50]\n",
      "tau_ref_0_s = [10]\n",
      "theta_0_s = [100]\n",
      "delta_s = [-50, -40, -30, -20, -10, 10, 20, 30, 40, 50]\n",
      "\n",
      "\n",
      "params = list(product(alpha_s, beta_s, r_max_s, thresh_s, tau_ref_0_s, theta_0_s, delta_s))\n",
      "\n",
      "data = {tup:get(*tup) for tup in params}"
     ],
     "language": "python",
     "metadata": {},
     "outputs": [],
     "prompt_number": 2
    },
    {
     "cell_type": "code",
     "collapsed": false,
     "input": [
      "from IPython.html.widgets import interact, interactive, fixed\n",
      "from IPython.html import widgets\n",
      "from IPython.display import clear_output, display, HTML"
     ],
     "language": "python",
     "metadata": {},
     "outputs": [],
     "prompt_number": 3
    },
    {
     "cell_type": "code",
     "collapsed": false,
     "input": [
      "def show_plot(key,alpha, beta, r_max,y_c,t_min,t_max):\n",
      "    after_spikes = np.arange(2,33,5)\n",
      "    figure(figsize=(12,5))    \n",
      "    dw = zeros(len(delta_s))\n",
      "    for d_idx, delta in enumerate(delta_s):\n",
      "        p = (alpha, beta, r_max, thresh_s[0], tau_ref_0_s[0],theta_0_s[0],delta)\n",
      "        ws = data[p][0].res['weight']\n",
      "        dw[d_idx] = 100*(ws[-1]-ws[0])/ws[0]\n",
      "    plot(delta_s, dw)\n",
      "    legend([str(a)+\" spikes\" for a in after_spikes],loc=(1.03,0.2))\n"
     ],
     "language": "python",
     "metadata": {},
     "outputs": [],
     "prompt_number": 4
    },
    {
     "cell_type": "code",
     "collapsed": false,
     "input": [
      "ts = data[params[0]][0].t\n",
      "i = interact(show_plot,\n",
      "key=widgets.DropdownWidget(description='key',values=['dendr_pred','weight','weight_update', 'PIV', 'y','h']),\n",
      "t_min=(0,int(np.round(ts[-1]))),\n",
      "t_max=(0,int(np.round(ts[-1]))),\n",
      "alpha=widgets.RadioButtonsWidget(description='alpha',values=[-65., -62., -59., -56., -53., -50.]),\n",
      "beta=widgets.RadioButtonsWidget(description='beta',values=[ 0.3 ,  0.35,  0.4 ,  0.45,  0.5 ,  0.55,  0.6 ,  0.65,  0.7 ]),\n",
      "r_max=widgets.RadioButtonsWidget(description='r_max',values=[0.05, 0.1, 0.2]),\n",
      "thresh=widgets.RadioButtonsWidget(description='thresh',values=[-50]),\n",
      "tau_ref_0=widgets.RadioButtonsWidget(description='tau_ref_0',values=[10]),\n",
      "theta_0=widgets.RadioButtonsWidget(description='theta_0',values=[100]),\n",
      "delta=widgets.RadioButtonsWidget(description='delta',values=[-50, -40, -30, -20, -10, 10, 20, 30, 40, 50]),\n",
      "y_c=widgets.RadioButtonsWidget(description='y_c',values=range(5)))\n"
     ],
     "language": "python",
     "metadata": {},
     "outputs": [
      {
       "metadata": {},
       "output_type": "display_data",
       "png": "[encoded data removed]",
       "text": [
        "<matplotlib.figure.Figure at 0x7f1841c959d0>"
       ]
      }
     ],
     "prompt_number": 5
    },
    {
     "cell_type": "code",
     "collapsed": false,
     "input": [],
     "language": "python",
     "metadata": {},
     "outputs": []
    }
   ],
   "metadata": {}
  }
 ]
}