{
 "metadata": {
  "signature": "sha256:c8781ffe15f01cb66ee43893661f086090803a9e63d8673ec9754a1cf63954cf"
 },
 "nbformat": 3,
 "nbformat_minor": 0,
 "worksheets": [
  {
   "cells": [
    {
     "cell_type": "markdown",
     "metadata": {},
     "source": [
      "| Field | Value |\n",
      "|-|-|\n",
      "| simulation file | sjostrom_incr_interm_from_no_ltp_params.py |\n",
      "| result files prefix | sj_20_no_ltp |\n",
      "| # result files | 11\\*7\\*2\\*2 = 308 |\n",
      "| simulation start | 2015-02-14 23:18:05 |\n",
      "| simulation end | 2015-02-14 23:31:11 |\n",
      "| duration | 0:13:06 |\n",
      "| repository | https://github.com/dspicher/py_stdp |\n",
      "| revision hash | [6ad09197afb6adb16a3f42a2a8ab610b2b11bfda](https://github.com/dspicher/py_stdp/tree/6ad09197afb6adb16a3f42a2a8ab610b2b11bfda) |"
     ]
    },
    {
     "cell_type": "markdown",
     "metadata": {},
     "source": [
      "### Results\n",
      "<font color='grey'>n/a</font>\n",
      "\n",
      "### Conclusion\n",
      "<font color='grey'>n/a</font>"
     ]
    },
    {
     "cell_type": "code",
     "collapsed": false,
     "input": [
      "%pylab inline\n",
      "import cPickle\n",
      "from helper import PeriodicAccumulator, BooleanAccumulator\n",
      "from itertools import product"
     ],
     "language": "python",
     "metadata": {},
     "outputs": [
      {
       "output_type": "stream",
       "stream": "stdout",
       "text": [
        "Populating the interactive namespace from numpy and matplotlib\n"
       ]
      }
     ],
     "prompt_number": 1
    },
    {
     "cell_type": "code",
     "collapsed": false,
     "input": [
      "def get(alpha, beta, g_L, delta):\n",
      "    return cPickle.load(open('sj_20_no_ltp_alpha_{0}_beta_{1}_g_L_{2}_delta_{3}.p'.format(alpha, beta, g_L, delta),'rb'))\n",
      "\n",
      "\n",
      "alpha_s = array([-60., -58., -56., -54., -52., -50., -48., -46., -44., -42., -40.])\n",
      "beta_s = array([ 0.1,  0.2,  0.3,  0.4,  0.5,  0.6,  0.7])\n",
      "g_L_s = [0.05, 0.03]\n",
      "delta_s = [-10.0, 10.0]\n",
      "\n",
      "\n",
      "params = list(product(alpha_s, beta_s, g_L_s, delta_s))\n",
      "\n",
      "data = {tup:get(*tup) for tup in params}"
     ],
     "language": "python",
     "metadata": {},
     "outputs": [],
     "prompt_number": 2
    },
    {
     "cell_type": "code",
     "collapsed": false,
     "input": [
      "from IPython.html.widgets import interact, interactive, fixed\n",
      "from IPython.html import widgets\n",
      "from IPython.display import clear_output, display, HTML"
     ],
     "language": "python",
     "metadata": {},
     "outputs": [],
     "prompt_number": 3
    },
    {
     "cell_type": "code",
     "collapsed": false,
     "input": [
      "def show_plot(key,alpha, beta, g_L, delta,y_c,t_min,t_max):\n",
      "    figure(figsize=(12,5))\n",
      "    p = (alpha, beta, g_L, delta)\n",
      "    print data[p][1]\n",
      "    ts = data[p][0][0].t\n",
      "    mask = np.logical_and(ts>=t_min,ts<=t_max)\n",
      "    if key=='y':\n",
      "        plot(data[p][0][0].t[mask],data[p][0][0].res[key][mask,y_c])\n",
      "    else:\n",
      "        plot(data[p][0][0].t[mask],data[p][0][0].res[key][mask])\n"
     ],
     "language": "python",
     "metadata": {},
     "outputs": [],
     "prompt_number": 4
    },
    {
     "cell_type": "code",
     "collapsed": false,
     "input": [
      "ts = data[params[10]][0][0].t\n",
      "i = interact(show_plot,\n",
      "key=widgets.DropdownWidget(description='key',values=['dendr_pred','weight','weight_update', 'PIV', 'y','h']),\n",
      "t_min=(0,int(np.round(ts[-1]))),\n",
      "t_max=(0,int(np.round(ts[-1]))),\n",
      "alpha=widgets.RadioButtonsWidget(description='alpha',values=[-60., -58., -56., -54., -52., -50., -48., -46., -44., -42., -40.]),\n",
      "beta=widgets.RadioButtonsWidget(description='beta',values=[ 0.1,  0.2,  0.3,  0.4,  0.5,  0.6,  0.7]),\n",
      "g_L=widgets.RadioButtonsWidget(description='g_L',values=[0.05, 0.03]),\n",
      "delta=widgets.RadioButtonsWidget(description='delta',values=[-10.0, 10.0]),\n",
      "y_c=widgets.RadioButtonsWidget(description='y_c',values=range(5)))\n"
     ],
     "language": "python",
     "metadata": {},
     "outputs": [
      {
       "output_type": "stream",
       "stream": "stdout",
       "text": [
        "0.268656301498\n"
       ]
      },
      {
       "metadata": {},
       "output_type": "display_data",
       "png": "[encoded data removed]",
       "text": [
        "<matplotlib.figure.Figure at 0x7fb71cd52550>"
       ]
      }
     ],
     "prompt_number": 5
    },
    {
     "cell_type": "code",
     "collapsed": false,
     "input": [
      "data[params[0]][0]"
     ],
     "language": "python",
     "metadata": {},
     "outputs": [
      {
       "metadata": {},
       "output_type": "pyout",
       "prompt_number": 8,
       "text": [
        "[<helper.PeriodicAccumulator instance at 0x7f4c25365878>,\n",
        " <helper.BooleanAccumulator instance at 0x7f4c25365290>]"
       ]
      }
     ],
     "prompt_number": 8
    },
    {
     "cell_type": "code",
     "collapsed": false,
     "input": [],
     "language": "python",
     "metadata": {},
     "outputs": []
    }
   ],
   "metadata": {}
  }
 ]
}