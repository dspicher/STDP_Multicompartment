{
 "metadata": {
  "signature": "sha256:96c31cce0e8d6fc0b3086dfe82a5af1649560d1ab41bfff376ada46ffe6ec6f7"
 },
 "nbformat": 3,
 "nbformat_minor": 0,
 "worksheets": [
  {
   "cells": [
    {
     "cell_type": "markdown",
     "metadata": {},
     "source": [
      "| Field | Value |\n",
      "|-|-|\n",
      "| simulation file | nice_stdp_1.py |\n",
      "| result files prefix | nice_stdp_1 |\n",
      "| # result files | 1\\*1\\*1\\*81 = 81 |\n",
      "| simulation start | 2015-02-12 16:06:45 |\n",
      "| simulation end | 2015-02-12 16:07:43 |\n",
      "| duration | 0:00:57 |\n",
      "| repository | https://github.com/dspicher/py_stdp |\n",
      "| revision hash | [a0db1f3a6544a0071d969d96d5f2072e517de211](https://github.com/dspicher/py_stdp/tree/a0db1f3a6544a0071d969d96d5f2072e517de211) |"
     ]
    },
    {
     "cell_type": "markdown",
     "metadata": {},
     "source": [
      "### Results\n",
      "<font color='grey'>n/a</font>\n",
      "\n",
      "### Conclusion\n",
      "<font color='grey'>n/a</font>"
     ]
    },
    {
     "cell_type": "code",
     "collapsed": false,
     "input": [
      "%pylab inline\n",
      "import cPickle\n",
      "from helper import PeriodicAccumulator, BooleanAccumulator\n",
      "from itertools import product"
     ],
     "language": "python",
     "metadata": {},
     "outputs": [
      {
       "output_type": "stream",
       "stream": "stdout",
       "text": [
        "Populating the interactive namespace from numpy and matplotlib\n"
       ]
      },
      {
       "output_type": "stream",
       "stream": "stderr",
       "text": [
        "WARNING: pylab import has clobbered these variables: ['product', 'interactive', 'get']\n",
        "`%matplotlib` prevents importing * from pylab and numpy\n"
       ]
      }
     ],
     "prompt_number": 22
    },
    {
     "cell_type": "code",
     "collapsed": false,
     "input": [
      "def get(alpha, beta, r_max, delta):\n",
      "    return cPickle.load(open('nice_stdp_1_alpha_{0}_beta_{1}_r_max_{2}_delta_{3}.p'.format(alpha, beta, r_max, delta),'rb'))\n",
      "\n",
      "\n",
      "alpha_s = [-59]\n",
      "beta_s = [0.5]\n",
      "r_max_s = [0.15]\n",
      "delta_s = array([-80., -78., -76., -74., -72., -70., -68., -66., -64., -62., -60.,\n",
      "       -58., -56., -54., -52., -50., -48., -46., -44., -42., -40., -38.,\n",
      "       -36., -34., -32., -30., -28., -26., -24., -22., -20., -18., -16.,\n",
      "       -14., -12., -10.,  -8.,  -6.,  -4.,  -2.,   0.,   2.,   4.,   6.,\n",
      "         8.,  10.,  12.,  14.,  16.,  18.,  20.,  22.,  24.,  26.,  28.,\n",
      "        30.,  32.,  34.,  36.,  38.,  40.,  42.,  44.,  46.,  48.,  50.,\n",
      "        52.,  54.,  56.,  58.,  60.,  62.,  64.,  66.,  68.,  70.,  72.,\n",
      "        74.,  76.,  78.,  80.])\n",
      "\n",
      "\n",
      "params = list(product(alpha_s, beta_s, r_max_s, delta_s))\n",
      "\n",
      "data = {tup:get(*tup) for tup in params}"
     ],
     "language": "python",
     "metadata": {},
     "outputs": [],
     "prompt_number": 23
    },
    {
     "cell_type": "code",
     "collapsed": false,
     "input": [
      "from IPython.html.widgets import interact, interactive, fixed\n",
      "from IPython.html import widgets\n",
      "from IPython.display import clear_output, display, HTML"
     ],
     "language": "python",
     "metadata": {},
     "outputs": [],
     "prompt_number": 24
    },
    {
     "cell_type": "code",
     "collapsed": false,
     "input": [
      "bi_poo = loadtxt('./experimental_data/bi_poo_stdp_points.csv',delimiter=',')\n",
      "print bi_poo"
     ],
     "language": "python",
     "metadata": {},
     "outputs": [
      {
       "output_type": "stream",
       "stream": "stdout",
       "text": [
        "[[   6.10877753   99.30467939]\n",
        " [   2.25490956   87.93651286]\n",
        " [   7.62279709   92.34217338]\n",
        " [   7.85715393   82.22266999]\n",
        " [  -1.61383821   74.67117194]\n",
        " [   8.0815909    70.83838368]\n",
        " [   5.76654215   55.66966846]\n",
        " [   7.00404545   53.45133841]\n",
        " [   7.59179751   48.38972674]\n",
        " [  17.26986686   42.34356836]\n",
        " [  16.89167196   34.12371933]\n",
        " [   6.83788769   32.26622441]\n",
        " [   7.77903498   32.26250446]\n",
        " [   4.93079343   29.11170699]\n",
        " [   6.12117736   20.88565804]\n",
        " [   7.99851202   20.24582668]\n",
        " [  35.59061953   18.23953377]\n",
        " [  26.46806268   15.11353597]\n",
        " [  77.88272858   10.48343847]\n",
        " [  96.02368368    3.45521335]\n",
        " [  86.8738472    -3.14893749]\n",
        " [  57.95495761  -10.30736085]\n",
        " [  27.31745121    3.41057396]\n",
        " [   7.85715393    2.22266999]\n",
        " [  -2.64798425   22.81755196]\n",
        " [  -3.13529767    0.68509075]\n",
        " [ -13.84131314   -4.33188152]\n",
        " [  -3.8668878   -12.59265   ]\n",
        " [  -3.57301176  -15.12345583]\n",
        " [  -4.24260272  -20.4963033 ]\n",
        " [  -7.39712014  -22.69727359]\n",
        " [  -4.65551715  -33.14289257]\n",
        " [  -3.76892912  -40.10291861]\n",
        " [ -11.84122014  -29.32002418]\n",
        " [ -18.99468357  -21.38661128]\n",
        " [ -23.32718508  -13.78055396]\n",
        " [ -17.04294992  -12.5405707 ]\n",
        " [ -23.59626145   -8.08779081]\n",
        " [ -42.76764264  -12.43889207]\n",
        " [ -63.73947952   -6.3480943 ]\n",
        " [ -62.44245703   -0.9777268 ]\n",
        " [ -66.19712634    0.30193592]\n",
        " [ -74.64761226    2.86498132]\n",
        " [ -79.47486709  -12.61000976]\n",
        " [-101.6594076    -1.13892462]]\n"
       ]
      }
     ],
     "prompt_number": 28
    },
    {
     "cell_type": "code",
     "collapsed": false,
     "input": [
      "def show_plot(key,alpha, beta, r_max,y_c,t_min,t_max):\n",
      "    after_spikes = np.arange(2,33,5)\n",
      "    figure(figsize=(12,5))    \n",
      "    dw = zeros(len(delta_s))\n",
      "    for d_idx, delta in enumerate(delta_s):\n",
      "        p = (alpha, beta, r_max,delta)\n",
      "        ws = data[p][0].res['weight']\n",
      "        dw[d_idx] = 100*(ws[-1]-ws[0])/ws[0]\n",
      "    plot(delta_s, dw)\n",
      "    scatter(-bi_poo[:,0],bi_poo[:,1],lw=0,c='r')\n",
      "    plot([-100,100],[0,0],'k--')\n",
      "    plot([0,0],[-60,120],'k--')\n",
      "    xlim([-100,100])\n",
      "    ylim([-60,120])\n"
     ],
     "language": "python",
     "metadata": {},
     "outputs": [],
     "prompt_number": 35
    },
    {
     "cell_type": "code",
     "collapsed": false,
     "input": [
      "ts = data[params[0]][0].t\n",
      "i = interact(show_plot,\n",
      "key=widgets.DropdownWidget(description='key',values=['dendr_pred','weight','weight_update', 'PIV', 'y','h']),\n",
      "t_min=(0,int(np.round(ts[-1]))),\n",
      "t_max=(0,int(np.round(ts[-1]))),\n",
      "alpha=widgets.RadioButtonsWidget(description='alpha',values=[-59]),\n",
      "beta=widgets.RadioButtonsWidget(description='beta',values=[0.5]),\n",
      "r_max=widgets.RadioButtonsWidget(description='r_max',values=[0.15]),\n",
      "delta=widgets.RadioButtonsWidget(description='delta',values=[-80., -78., -76., -74., -72., -70., -68., -66., -64., -62., -60.,\n",
      "       -58., -56., -54., -52., -50., -48., -46., -44., -42., -40., -38.,\n",
      "       -36., -34., -32., -30., -28., -26., -24., -22., -20., -18., -16.,\n",
      "       -14., -12., -10.,  -8.,  -6.,  -4.,  -2.,   0.,   2.,   4.,   6.,\n",
      "         8.,  10.,  12.,  14.,  16.,  18.,  20.,  22.,  24.,  26.,  28.,\n",
      "        30.,  32.,  34.,  36.,  38.,  40.,  42.,  44.,  46.,  48.,  50.,\n",
      "        52.,  54.,  56.,  58.,  60.,  62.,  64.,  66.,  68.,  70.,  72.,\n",
      "        74.,  76.,  78.,  80.]),\n",
      "y_c=widgets.RadioButtonsWidget(description='y_c',values=range(5)))\n"
     ],
     "language": "python",
     "metadata": {},
     "outputs": [
      {
       "metadata": {},
       "output_type": "display_data",
       "png": "[encoded data removed]",
       "text": [
        "<matplotlib.figure.Figure at 0x7f965d904910>"
       ]
      }
     ],
     "prompt_number": 36
    },
    {
     "cell_type": "code",
     "collapsed": false,
     "input": [],
     "language": "python",
     "metadata": {},
     "outputs": []
    }
   ],
   "metadata": {}
  }
 ]
}