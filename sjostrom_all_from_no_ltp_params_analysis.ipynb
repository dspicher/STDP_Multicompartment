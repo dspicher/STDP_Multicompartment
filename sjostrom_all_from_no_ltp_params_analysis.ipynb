{
 "metadata": {
  "signature": "sha256:3f9c84f582e0555bb965e2dfe8dca950f09273c5a715a6e7bc9f6cb8a282a3f9"
 },
 "nbformat": 3,
 "nbformat_minor": 0,
 "worksheets": [
  {
   "cells": [
    {
     "cell_type": "markdown",
     "metadata": {},
     "source": [
      "| Field | Value |\n",
      "|-|-|\n",
      "| simulation file | sjostrom_all_from_no_ltp_params.py |\n",
      "| result files prefix | sj_all |\n",
      "| # result files | 6\\*2\\*2\\*5\\*2 = 240 |\n",
      "| simulation start | 2015-02-16 13:32:45 |\n",
      "| simulation end | 2015-02-16 14:21:31 |\n",
      "| duration | 0:48:46 |\n",
      "| repository | https://github.com/dspicher/py_stdp |\n",
      "| revision hash | [6ad09197afb6adb16a3f42a2a8ab610b2b11bfda](https://github.com/dspicher/py_stdp/tree/6ad09197afb6adb16a3f42a2a8ab610b2b11bfda) |"
     ]
    },
    {
     "cell_type": "markdown",
     "metadata": {},
     "source": [
      "### Results\n",
      "<font color='grey'>n/a</font>\n",
      "\n",
      "### Conclusion\n",
      "<font color='grey'>n/a</font>"
     ]
    },
    {
     "cell_type": "code",
     "collapsed": false,
     "input": [
      "%pylab inline\n",
      "import cPickle\n",
      "from helper import PeriodicAccumulator, BooleanAccumulator\n",
      "from itertools import product"
     ],
     "language": "python",
     "metadata": {},
     "outputs": [
      {
       "output_type": "stream",
       "stream": "stdout",
       "text": [
        "Populating the interactive namespace from numpy and matplotlib\n"
       ]
      }
     ],
     "prompt_number": 1
    },
    {
     "cell_type": "code",
     "collapsed": false,
     "input": [
      "def get(alpha, beta, g_L, freq, delta):\n",
      "    return cPickle.load(open('sj_all_alpha_{0}_beta_{1}_g_L_{2}_freq_{3}_delta_{4}.p'.format(alpha, beta, g_L, freq, delta),'rb'))\n",
      "\n",
      "\n",
      "alpha_s = array([-60., -58., -56., -54., -52., -50.])\n",
      "beta_s = [0.1, 0.2]\n",
      "g_L_s = [0.05, 0.03]\n",
      "freq_s = [2.0, 5.0, 10.0, 20.0, 40.0]\n",
      "delta_s = [-10.0, 10.0]\n",
      "\n",
      "\n",
      "params = list(product(alpha_s, beta_s, g_L_s, freq_s, delta_s))\n",
      "\n",
      "data = {tup:get(*tup) for tup in params}"
     ],
     "language": "python",
     "metadata": {},
     "outputs": [],
     "prompt_number": 2
    },
    {
     "cell_type": "code",
     "collapsed": false,
     "input": [
      "check_spikes = [40]#arange(5,41,5)"
     ],
     "language": "python",
     "metadata": {},
     "outputs": [],
     "prompt_number": 17
    },
    {
     "cell_type": "code",
     "collapsed": false,
     "input": [
      "from IPython.html.widgets import interact, interactive, fixed\n",
      "from IPython.html import widgets\n",
      "from IPython.display import clear_output, display, HTML"
     ],
     "language": "python",
     "metadata": {},
     "outputs": [],
     "prompt_number": 18
    },
    {
     "cell_type": "code",
     "collapsed": false,
     "input": [
      "def show_plot(key,alpha, beta, g_L,y_c,t_min,t_max):\n",
      "    p = (alpha,beta,g_L)\n",
      "    for ch in check_spikes:\n",
      "        figure(figsize=(12,5))\n",
      "        delta = -10.\n",
      "        dws = zeros(len(freq_s))\n",
      "        for idx, freq in enumerate(freq_s):\n",
      "            comb = tuple(list(p)+[freq,delta])\n",
      "            print data[comb]\n",
      "            ts = data[comb][0].t\n",
      "            ch_t = 1000.0/freq*ch\n",
      "            match_idx = argsort(np.abs(ts-ch_t))[0]\n",
      "            dws[idx] = data[comb][0].res['weight'][match_idx]/data[comb][0].res['weight'][0]\n",
      "        plot(freq_s, dws, 'b.--')\n",
      "        scatter(freq_s, dws, c='blue', s=50)\n",
      "        delta = 10.\n",
      "        dws = zeros(len(freq_s))\n",
      "        for idx, freq in enumerate(freq_s):\n",
      "            comb = tuple(list(p)+[freq,delta])\n",
      "            ts = data[comb][0].t\n",
      "            ch_t = 1000.0/freq*ch\n",
      "            match_idx = argsort(np.abs(ts-ch_t))[0]\n",
      "            dws[idx] = data[comb][0].res['weight'][match_idx]/data[comb][0].res['weight'][0]\n",
      "        plot(freq_s, dws, 'r.--')\n",
      "        scatter(freq_s, dws, c='red', s=50)\n",
      "        plot([-1,41],[1.0,1.0],'k--')\n",
      "        xlim([-1,41])\n"
     ],
     "language": "python",
     "metadata": {},
     "outputs": [],
     "prompt_number": 19
    },
    {
     "cell_type": "code",
     "collapsed": false,
     "input": [
      "ts = data[params[0]][0].t\n",
      "i = interact(show_plot,\n",
      "key=widgets.DropdownWidget(description='key',values=['dendr_pred','weight','weight_update', 'PIV', 'y','h']),\n",
      "t_min=(0,int(np.round(ts[-1]))),\n",
      "t_max=(0,int(np.round(ts[-1]))),\n",
      "alpha=widgets.RadioButtonsWidget(description='alpha',values=[-60., -58., -56., -54., -52., -50.]),\n",
      "beta=widgets.RadioButtonsWidget(description='beta',values=[0.1, 0.2]),\n",
      "g_L=widgets.RadioButtonsWidget(description='g_L',values=[0.05, 0.03]),\n",
      "y_c=widgets.RadioButtonsWidget(description='y_c',values=range(5)))\n"
     ],
     "language": "python",
     "metadata": {},
     "outputs": [
      {
       "output_type": "stream",
       "stream": "stdout",
       "text": [
        "[<helper.PeriodicAccumulator instance at 0x7fa7a9440098>, <helper.BooleanAccumulator instance at 0x7fa7a9440170>]\n",
        "[<helper.PeriodicAccumulator instance at 0x7fa7a9440368>, <helper.BooleanAccumulator instance at 0x7fa7a9440440>]\n",
        "[<helper.PeriodicAccumulator instance at 0x7fa7a9440638>, <helper.BooleanAccumulator instance at 0x7fa7a9440710>]\n",
        "[<helper.PeriodicAccumulator instance at 0x7fa7a9440908>, <helper.BooleanAccumulator instance at 0x7fa7a94409e0>]\n",
        "[<helper.PeriodicAccumulator instance at 0x7fa7a9440bd8>, <helper.BooleanAccumulator instance at 0x7fa7a9440cb0>]\n"
       ]
      },
      {
       "metadata": {},
       "output_type": "display_data",
       "png": "[encoded data removed]",
       "text": [
        "<matplotlib.figure.Figure at 0x7fa7a8b53090>"
       ]
      }
     ],
     "prompt_number": 20
    },
    {
     "cell_type": "code",
     "collapsed": false,
     "input": [
      "p"
     ],
     "language": "python",
     "metadata": {},
     "outputs": [
      {
       "metadata": {},
       "output_type": "pyout",
       "prompt_number": 7,
       "text": [
        "(-58.0, 0.1, 0.03)"
       ]
      }
     ],
     "prompt_number": 7
    },
    {
     "cell_type": "code",
     "collapsed": false,
     "input": [
      "data[tuple(list(p)+[20.0,10.0])][0].res"
     ],
     "language": "python",
     "metadata": {},
     "outputs": [
      {
       "metadata": {},
       "output_type": "pyout",
       "prompt_number": 11,
       "text": [
        "{'I_ext': array([ 0.,  0.,  0., ...,  0.,  0.,  0.], dtype=float32),\n",
        " 'PIV': array([-0.        , -0.        , -0.        , ..., -0.17519335,\n",
        "        -0.17408663, -0.17297952], dtype=float32),\n",
        " 'delta': array([ 0.        ,  0.        ,  0.        , ..., -0.18448965,\n",
        "        -0.18352684, -0.18255015], dtype=float32),\n",
        " 'dendr_pred': array([ 0.01327224,  0.01327224,  0.01327224, ...,  0.0211004 ,\n",
        "         0.02104793,  0.02099582], dtype=float32),\n",
        " 'dendr_spike': array([ 0.,  0.,  0., ...,  0.,  0.,  0.], dtype=float32),\n",
        " 'g': array([  0.00000000e+00,   0.00000000e+00,   0.00000000e+00, ...,\n",
        "          5.84425243e-06,   5.46426827e-06,   5.10899008e-06], dtype=float32),\n",
        " 'h': array([ 0.07685248,  0.07685248,  0.07685248, ...,  0.06319974,\n",
        "         0.06329124,  0.06338213], dtype=float32),\n",
        " 'name': 840044496,\n",
        " 'neg_PIV': array([-0.        , -0.        , -0.        , ..., -0.17519335,\n",
        "        -0.17408663, -0.17297952], dtype=float32),\n",
        " 'pos_PIV': array([ 0.,  0.,  0., ...,  0.,  0.,  0.], dtype=float32),\n",
        " 'pre_spike': array([ 0.,  0.,  0., ...,  0.,  0.,  0.], dtype=float32),\n",
        " 'spike': array([ 0.,  0.,  0., ...,  0.,  0.,  0.], dtype=float32),\n",
        " 'syn_pots_sum': array([ 0.        ,  0.        ,  0.        , ...,  0.00822975,\n",
        "         0.00769899,  0.00720246], dtype=float32),\n",
        " 'weight': array([ 0.001     ,  0.001     ,  0.001     , ...,  0.00074738,\n",
        "         0.00074731,  0.00074724], dtype=float32),\n",
        " 'weight_update': array([  0.00000000e+00,   0.00000000e+00,   0.00000000e+00, ...,\n",
        "         -1.84489650e-08,  -1.83526847e-08,  -1.82550153e-08], dtype=float32),\n",
        " 'y': array([[ -70.        ,  -70.        ,  -70.        ,    0.        ,    0.        ],\n",
        "        [ -70.        ,  -70.        ,  -70.        ,    0.        ,    0.        ],\n",
        "        [ -70.        ,  -70.        ,  -70.        ,    0.        ,    0.        ],\n",
        "        ..., \n",
        "        [ -63.41781235,  -63.4176445 ,  -63.41781235,  131.4364624 ,\n",
        "          131.20147705],\n",
        "        [ -63.4571228 ,  -63.4569664 ,  -63.4571228 ,  130.72727966,\n",
        "          130.5072937 ],\n",
        "        [ -63.49620056,  -63.4960556 ,  -63.49620056,  130.01739502,\n",
        "          129.81147766]], dtype=float32)}"
       ]
      }
     ],
     "prompt_number": 11
    },
    {
     "cell_type": "code",
     "collapsed": false,
     "input": [
      "cPickle.load(open('sj_find_no_ltp_alpha_-58.0_beta_0.1_g_L_0.03.p','rb'))['hist'][-1]"
     ],
     "language": "python",
     "metadata": {},
     "outputs": [
      {
       "metadata": {},
       "output_type": "pyout",
       "prompt_number": 14,
       "text": [
        "(0.05733761787414551, 1.0000002, 212529104)"
       ]
      }
     ],
     "prompt_number": 14
    },
    {
     "cell_type": "code",
     "collapsed": false,
     "input": [],
     "language": "python",
     "metadata": {},
     "outputs": []
    }
   ],
   "metadata": {}
  }
 ]
}