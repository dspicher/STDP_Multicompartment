{
 "metadata": {
  "signature": "sha256:a17c40bf1f0360e692102f2e9846c8d7dcebdacc3abb2b108db44434c4973680"
 },
 "nbformat": 3,
 "nbformat_minor": 0,
 "worksheets": [
  {
   "cells": [
    {
     "cell_type": "markdown",
     "metadata": {},
     "source": [
      "| Field | Value |\n",
      "|-|-|\n",
      "| simulation file | artola_good_params.py |\n",
      "| result files prefix | artola_good_params |\n",
      "| # result files | 1\\*1\\*2\\*1\\*1\\*1\\*9 = 18 |\n",
      "| simulation start | 2015-02-11 17:58:32 |\n",
      "| simulation end | 2015-02-11 18:03:13 |\n",
      "| duration | 0:04:41 |\n",
      "| repository | https://github.com/dspicher/py_stdp |\n",
      "| revision hash | [9bd2f4d05b192e1a8b5de03a913f220fcdb6446e](https://github.com/dspicher/py_stdp/tree/9bd2f4d05b192e1a8b5de03a913f220fcdb6446e) |"
     ]
    },
    {
     "cell_type": "markdown",
     "metadata": {},
     "source": [
      "### Results\n",
      "<font color='grey'>n/a</font>\n",
      "\n",
      "### Conclusion\n",
      "<font color='grey'>n/a</font>"
     ]
    },
    {
     "cell_type": "code",
     "collapsed": false,
     "input": [
      "%pylab inline\n",
      "import cPickle\n",
      "from helper import PeriodicAccumulator, BooleanAccumulator\n",
      "from itertools import product"
     ],
     "language": "python",
     "metadata": {},
     "outputs": [
      {
       "output_type": "stream",
       "stream": "stdout",
       "text": [
        "Populating the interactive namespace from numpy and matplotlib\n"
       ]
      }
     ],
     "prompt_number": 1
    },
    {
     "cell_type": "code",
     "collapsed": false,
     "input": [
      "def get(alpha, beta, r_max, thresh, tau_ref_0, theta_0, Uclamp):\n",
      "    return cPickle.load(open('artola_good_params_alpha_{0}_beta_{1}_r_max_{2}_thresh_{3}_tau_ref_0_{4}_theta_0_{5}_Uclamp_{6}.p'.format(alpha, beta, r_max, thresh, tau_ref_0, theta_0, Uclamp),'rb'))\n",
      "\n",
      "\n",
      "alpha_s = [-34.0]\n",
      "beta_s = [0.25]\n",
      "r_max_s = [0.015, 0.025]\n",
      "thresh_s = [-20.0]\n",
      "tau_ref_0_s = [5.0]\n",
      "theta_0_s = [2.5]\n",
      "Uclamp_s = array([-40., -35., -30., -25., -20., -15., -10.,  -5.,   0.])\n",
      "\n",
      "\n",
      "params = list(product(alpha_s, beta_s, r_max_s, thresh_s, tau_ref_0_s, theta_0_s, Uclamp_s))\n",
      "\n",
      "data = {tup:get(*tup) for tup in params}"
     ],
     "language": "python",
     "metadata": {},
     "outputs": [],
     "prompt_number": 2
    },
    {
     "cell_type": "code",
     "collapsed": false,
     "input": [
      "from IPython.html.widgets import interact, interactive, fixed\n",
      "from IPython.html import widgets\n",
      "from IPython.display import clear_output, display, HTML"
     ],
     "language": "python",
     "metadata": {},
     "outputs": [],
     "prompt_number": 3
    },
    {
     "cell_type": "code",
     "collapsed": false,
     "input": [
      "def show_plot(key,alpha, beta, r_max, thresh, tau_ref_0, theta_0, y_c,t_min,t_max):\n",
      "    figure(figsize=(12,5))\n",
      "    dws = np.zeros(len(Uclamp_s))\n",
      "    for idx,U2 in enumerate(Uclamp_s):\n",
      "        p = (alpha, beta, r_max, thresh, tau_ref_0, theta_0, U2)\n",
      "        dws[idx] = data[p][0].res['weight'][-1]/data[p][0].res['weight'][0]\n",
      "    plot(Uclamp_s, dws,'.--')\n",
      "    scatter(Uclamp_s, dws, lw=0, c='red', s=50)\n",
      "    xlim([-45,5])"
     ],
     "language": "python",
     "metadata": {},
     "outputs": [],
     "prompt_number": 4
    },
    {
     "cell_type": "code",
     "collapsed": false,
     "input": [
      "ts = data[params[0]][0].t\n",
      "i = interact(show_plot,\n",
      "key=widgets.DropdownWidget(description='key',values=['dendr_pred','weight','weight_update', 'PIV', 'y','h']),\n",
      "t_min=(0,int(np.round(ts[-1]))),\n",
      "t_max=(0,int(np.round(ts[-1]))),\n",
      "alpha=widgets.RadioButtonsWidget(description='alpha',values=[-34.0]),\n",
      "beta=widgets.RadioButtonsWidget(description='beta',values=[0.25]),\n",
      "r_max=widgets.RadioButtonsWidget(description='r_max',values=[0.015, 0.025]),\n",
      "thresh=widgets.RadioButtonsWidget(description='thresh',values=[-20.0]),\n",
      "tau_ref_0=widgets.RadioButtonsWidget(description='tau_ref_0',values=[5.0]),\n",
      "theta_0=widgets.RadioButtonsWidget(description='theta_0',values=[2.5]),\n",
      "Uclamp=widgets.RadioButtonsWidget(description='Uclamp',values=[-40., -35., -30., -25., -20., -15., -10.,  -5.,   0.]),\n",
      "y_c=widgets.RadioButtonsWidget(description='y_c',values=range(5)))\n"
     ],
     "language": "python",
     "metadata": {},
     "outputs": [
      {
       "metadata": {},
       "output_type": "display_data",
       "png": "[encoded data removed]",
       "text": [
        "<matplotlib.figure.Figure at 0x7fd4428b8a90>"
       ]
      }
     ],
     "prompt_number": 5
    },
    {
     "cell_type": "code",
     "collapsed": false,
     "input": [
      "artola_data = np.loadtxt(open('./experimental_data/artola_voltage_clamp.csv','r'),delimiter=',')"
     ],
     "language": "python",
     "metadata": {},
     "outputs": [],
     "prompt_number": 6
    },
    {
     "cell_type": "code",
     "collapsed": false,
     "input": [
      "dws = np.zeros(len(Uclamp_s))\n",
      "for idx,U2 in enumerate(Uclamp_s):\n",
      "    p = (alpha_s[0], beta_s[0], r_max_s[0], thresh_s[0], tau_ref_0_s[0], theta_0_s[0], U2)\n",
      "    dws[idx] = data[p][0].res['weight'][-1]/data[p][0].res['weight'][0]\n",
      "plot(Uclamp_s, dws,'.--')\n",
      "scatter(Uclamp_s[::2], dws[::2], lw=0, c='red', s=50)\n",
      "xlim([-45,5])\n",
      "scatter(artola_data[:,0],artola_data[:,1],c='g',s=50)"
     ],
     "language": "python",
     "metadata": {},
     "outputs": [
      {
       "metadata": {},
       "output_type": "pyout",
       "prompt_number": 10,
       "text": [
        "<matplotlib.collections.PathCollection at 0x7fd44245ee50>"
       ]
      },
      {
       "metadata": {},
       "output_type": "display_data",
       "png": "[encoded data removed]",
       "text": [
        "<matplotlib.figure.Figure at 0x7fd4424d9a10>"
       ]
      }
     ],
     "prompt_number": 10
    },
    {
     "cell_type": "code",
     "collapsed": false,
     "input": [],
     "language": "python",
     "metadata": {},
     "outputs": []
    }
   ],
   "metadata": {}
  }
 ]
}