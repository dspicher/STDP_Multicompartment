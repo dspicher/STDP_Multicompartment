{
 "cells": [
  {
   "cell_type": "markdown",
   "metadata": {},
   "source": [
    "| Field | Value |\n",
    "|-|-|\n",
    "| simulation file | artola.py |\n",
    "| result files prefix | artola_fit |\n",
    "| # result files | 3\\*2\\*2\\*3\\*5\\*2 = 360 |\n",
    "| simulation start | 2015-09-10 17:31:18 |\n",
    "| simulation end | 2015-09-10 18:04:14 |\n",
    "| duration | 0:32:55 |\n",
    "| repository | https:/ |\n",
    "| revision hash | [2dc4ab0076e1141364c77493b7d6d3c8a2d5c2c5](https://tree/2dc4ab0076e1141364c77493b7d6d3c8a2d5c2c5) |"
   ]
  },
  {
   "cell_type": "code",
   "execution_count": null,
   "metadata": {},
   "outputs": [],
   "source": [
    "%pylab inline\n",
    "import cPickle\n",
    "from helper import PeriodicAccumulator, BooleanAccumulator\n",
    "from itertools import product"
   ]
  },
  {
   "cell_type": "code",
   "execution_count": null,
   "metadata": {},
   "outputs": [],
   "source": [
    "def get(alpha, beta, r_max, thresh, Uclamp, h1):\n",
    "    return cPickle.load(open('artola_fit_alpha_{0}_beta_{1}_r_max_{2}_thresh_{3}_Uclamp_{4}_h1_{5}.p'.format(alpha, beta, r_max, thresh, Uclamp, h1),'rb'))\n",
    "\n",
    "\n",
    "alpha_s = [str(a) for a in [-50.0, -40.0, -30.0]]\n",
    "beta_s = [str(a) for a in [0.1, 0.2]]\n",
    "r_max_s = [str(a) for a in [0.1, 0.3]]\n",
    "thresh_s = [str(a) for a in [-30.0, -40.0, -50.0]]\n",
    "Uclamp_s = [str(a) for a in array([-40., -30., -20., -10.,   0.])]\n",
    "h1_s = [str(a) for a in [False, True]]\n",
    "\n",
    "\n",
    "params = list(product(alpha_s, beta_s, r_max_s, thresh_s, Uclamp_s, h1_s))\n",
    "\n",
    "data = {tup:get(*tup) for tup in params}"
   ]
  },
  {
   "cell_type": "code",
   "execution_count": null,
   "metadata": {},
   "outputs": [],
   "source": [
    "from IPython.html.widgets import interact, interactive, fixed\n",
    "from IPython.html import widgets\n",
    "from IPython.display import clear_output, display, HTML"
   ]
  },
  {
   "cell_type": "code",
   "execution_count": null,
   "metadata": {},
   "outputs": [],
   "source": [
    "def show_plot(key,alpha, beta, r_max, thresh, Uclamp, h1,y_c,t_min,t_max):\n",
    "    figure(figsize=(12,5))\n",
    "    p = (alpha, beta, r_max, thresh, Uclamp, h1)\n",
    "    ts = data[p][0].t\n",
    "    mask = np.logical_and(ts>=t_min,ts<=t_max)\n",
    "    if key=='y':\n",
    "        plot(data[p][0].t[mask],data[p][0].res[key][mask,y_c])\n",
    "    else:\n",
    "        plot(data[p][0].t[mask],data[p][0].res[key][mask])\n"
   ]
  },
  {
   "cell_type": "code",
   "execution_count": null,
   "metadata": {},
   "outputs": [],
   "source": [
    "ts = data[params[0]][0].t\n",
    "i = interact(show_plot,\n",
    "key=widgets.ToggleButtons(description='key',options=['dendr_pred','weights','weight_updates', 'PIVs', 'y','h']),\n",
    "t_min=(0,int(np.round(ts[-1]))),\n",
    "t_max=(0,int(np.round(ts[-1]))),\n",
    "alpha=widgets.ToggleButtons(description='alpha',options=alpha_s),\n",
    "beta=widgets.ToggleButtons(description='beta',options=beta_s),\n",
    "r_max=widgets.ToggleButtons(description='r_max',options=r_max_s),\n",
    "thresh=widgets.ToggleButtons(description='thresh',options=thresh_s),\n",
    "Uclamp=widgets.ToggleButtons(description='Uclamp',options=Uclamp_s),\n",
    "h1=widgets.ToggleButtons(description='h1',options=h1_s),\n",
    "y_c=widgets.ToggleButtons(description='y_c',options=[str(a) for a in range(5)]))\n"
   ]
  }
 ],
 "metadata": {},
 "nbformat": 4,
 "nbformat_minor": 0
}
