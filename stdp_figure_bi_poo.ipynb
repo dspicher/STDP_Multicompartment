{
 "cells": [
  {
   "cell_type": "markdown",
   "metadata": {},
   "source": [
    "| Field | Value |\n",
    "|-|-|\n",
    "| simulation file | nice_stdp_1.py |\n",
    "| result files prefix | nice_stdp_1 |\n",
    "| # result files | 1\\*1\\*1\\*81 = 81 |\n",
    "| simulation start | 2015-02-12 16:06:45 |\n",
    "| simulation end | 2015-02-12 16:07:43 |\n",
    "| duration | 0:00:57 |\n",
    "| repository | https://github.com/dspicher/py_stdp |\n",
    "| revision hash | [a0db1f3a6544a0071d969d96d5f2072e517de211](https://github.com/dspicher/py_stdp/tree/a0db1f3a6544a0071d969d96d5f2072e517de211) |"
   ]
  },
  {
   "cell_type": "markdown",
   "metadata": {},
   "source": [
    "### Results\n",
    "<font color='grey'>n/a</font>\n",
    "\n",
    "### Conclusion\n",
    "<font color='grey'>n/a</font>"
   ]
  },
  {
   "cell_type": "code",
   "execution_count": 1,
   "metadata": {
    "collapsed": false
   },
   "outputs": [
    {
     "name": "stdout",
     "output_type": "stream",
     "text": [
      "Populating the interactive namespace from numpy and matplotlib\n"
     ]
    }
   ],
   "source": [
    "%pylab inline\n",
    "import cPickle\n",
    "from helper import PeriodicAccumulator, BooleanAccumulator\n",
    "from itertools import product"
   ]
  },
  {
   "cell_type": "code",
   "execution_count": 2,
   "metadata": {
    "collapsed": false
   },
   "outputs": [],
   "source": [
    "def get(alpha, beta, r_max, delta):\n",
    "    return cPickle.load(open('stdp_figure_bi_poo_alpha_{0}_beta_{1}_r_max_{2}_delta_{3}.p'.format(alpha, beta, r_max, delta),'rb'))\n",
    "\n",
    "\n",
    "alpha_s = [-59]\n",
    "beta_s = [0.5]\n",
    "r_max_s = [0.15]\n",
    "delta_s = array([-100.,  -98.,  -96.,  -94.,  -92.,  -90.,  -88.,  -86.,  -84.,\n",
    "        -82.,  -80.,  -78.,  -76.,  -74.,  -72.,  -70.,  -68.,  -66.,\n",
    "        -64.,  -62.,  -60.,  -58.,  -56.,  -54.,  -52.,  -50.,  -48.,\n",
    "        -46.,  -44.,  -42.,  -40.,  -38.,  -36.,  -34.,  -32.,  -30.,\n",
    "        -28.,  -26.,  -24.,  -22.,  -20.,  -18.,  -16.,  -14.,  -12.,\n",
    "        -10.,   -8.,   -6.,   -4.,   -2.,    0.,    2.,    4.,    6.,\n",
    "          8.,   10.,   12.,   14.,   16.,   18.,   20.,   22.,   24.,\n",
    "         26.,   28.,   30.,   32.,   34.,   36.,   38.,   40.,   42.,\n",
    "         44.,   46.,   48.,   50.,   52.,   54.,   56.,   58.,   60.,\n",
    "         62.,   64.,   66.,   68.,   70.,   72.,   74.,   76.,   78.,\n",
    "         80.,   82.,   84.,   86.,   88.,   90.,   92.,   94.,   96.,\n",
    "         98.,  100.])\n",
    "\n",
    "\n",
    "params = list(product(alpha_s, beta_s, r_max_s, delta_s))\n",
    "\n",
    "data = {tup:get(*tup) for tup in params}"
   ]
  },
  {
   "cell_type": "code",
   "execution_count": 3,
   "metadata": {
    "collapsed": false
   },
   "outputs": [
    {
     "name": "stderr",
     "output_type": "stream",
     "text": [
      ":0: FutureWarning: IPython widgets are experimental and may change in the future.\n"
     ]
    }
   ],
   "source": [
    "from IPython.html.widgets import interact, interactive, fixed\n",
    "from IPython.html import widgets\n",
    "from IPython.display import clear_output, display, HTML"
   ]
  },
  {
   "cell_type": "code",
   "execution_count": 4,
   "metadata": {
    "collapsed": false
   },
   "outputs": [
    {
     "name": "stdout",
     "output_type": "stream",
     "text": [
      "[[   6.10877753   99.30467939]\n",
      " [   2.25490956   87.93651286]\n",
      " [   7.62279709   92.34217338]\n",
      " [   7.85715393   82.22266999]\n",
      " [  -1.61383821   74.67117194]\n",
      " [   8.0815909    70.83838368]\n",
      " [   5.76654215   55.66966846]\n",
      " [   7.00404545   53.45133841]\n",
      " [   7.59179751   48.38972674]\n",
      " [  17.26986686   42.34356836]\n",
      " [  16.89167196   34.12371933]\n",
      " [   6.83788769   32.26622441]\n",
      " [   7.77903498   32.26250446]\n",
      " [   4.93079343   29.11170699]\n",
      " [   6.12117736   20.88565804]\n",
      " [   7.99851202   20.24582668]\n",
      " [  35.59061953   18.23953377]\n",
      " [  26.46806268   15.11353597]\n",
      " [  77.88272858   10.48343847]\n",
      " [  96.02368368    3.45521335]\n",
      " [  86.8738472    -3.14893749]\n",
      " [  57.95495761  -10.30736085]\n",
      " [  27.31745121    3.41057396]\n",
      " [   7.85715393    2.22266999]\n",
      " [  -2.64798425   22.81755196]\n",
      " [  -3.13529767    0.68509075]\n",
      " [ -13.84131314   -4.33188152]\n",
      " [  -3.8668878   -12.59265   ]\n",
      " [  -3.57301176  -15.12345583]\n",
      " [  -4.24260272  -20.4963033 ]\n",
      " [  -7.39712014  -22.69727359]\n",
      " [  -4.65551715  -33.14289257]\n",
      " [  -3.76892912  -40.10291861]\n",
      " [ -11.84122014  -29.32002418]\n",
      " [ -18.99468357  -21.38661128]\n",
      " [ -23.32718508  -13.78055396]\n",
      " [ -17.04294992  -12.5405707 ]\n",
      " [ -23.59626145   -8.08779081]\n",
      " [ -42.76764264  -12.43889207]\n",
      " [ -63.73947952   -6.3480943 ]\n",
      " [ -62.44245703   -0.9777268 ]\n",
      " [ -66.19712634    0.30193592]\n",
      " [ -74.64761226    2.86498132]\n",
      " [ -79.47486709  -12.61000976]\n",
      " [-101.6594076    -1.13892462]]\n"
     ]
    }
   ],
   "source": [
    "bi_poo = loadtxt('./experimental_data/bi_poo_stdp_points.csv',delimiter=',')\n",
    "print bi_poo"
   ]
  },
  {
   "cell_type": "code",
   "execution_count": 5,
   "metadata": {
    "collapsed": false
   },
   "outputs": [],
   "source": [
    "def simpleaxis(ax):\n",
    "    ax.spines['top'].set_visible(False)\n",
    "    ax.spines['right'].set_visible(False)\n",
    "    ax.get_xaxis().tick_bottom()\n",
    "    ax.get_yaxis().tick_left()"
   ]
  },
  {
   "cell_type": "code",
   "execution_count": 6,
   "metadata": {
    "collapsed": false
   },
   "outputs": [
    {
     "data": {
      "image/png": "[encoded data removed]",
      "text/plain": [
       "<matplotlib.figure.Figure at 0x7f7e996b6910>"
      ]
     },
     "metadata": {},
     "output_type": "display_data"
    }
   ],
   "source": [
    "after_spikes = np.arange(2,33,5)\n",
    "figure(figsize=(8,5))    \n",
    "dw = zeros(len(delta_s))\n",
    "for d_idx, delta in enumerate(delta_s):\n",
    "    p = (alpha_s[0], beta_s[0], r_max_s[0],delta)\n",
    "    ws = data[p][0].res['weight']\n",
    "    dw[d_idx] = 100*(ws[-1]-ws[0])/ws[0]\n",
    "plot(delta_s, dw,'#4daf4a',lw=2)\n",
    "scatter(-bi_poo[:,0],bi_poo[:,1],lw=0,c='#984ea3',s=40,zorder=-100)\n",
    "l=legend(['model','Bi, Poo (1998)'],frameon=False,fontsize=15,scatterpoints=1)\n",
    "plot([-100,100],[0,0],'k--')\n",
    "plot([0,0],[-60,120],'k--')\n",
    "xlim([-100,100])\n",
    "ylim([-60,120])\n",
    "simpleaxis(gca())\n",
    "yt,lbls = yticks()\n",
    "yticks(yt[::2],fontsize=12)\n",
    "xticks(xticks()[0],fontsize=12)\n",
    "xlabel('$t_{pre}-t_{post}$ [ms]', fontsize=20)\n",
    "ylabel('$\\Delta w$ [%]',fontsize=20)\n",
    "savefig('stdp_figure_bi_poo.pdf')"
   ]
  }
 ],
 "metadata": {
  "kernelspec": {
   "display_name": "Python 2",
   "language": "python",
   "name": "python2"
  },
  "language_info": {
   "codemirror_mode": {
    "name": "ipython",
    "version": 2
   },
   "file_extension": ".py",
   "mimetype": "text/x-python",
   "name": "python",
   "nbconvert_exporter": "python",
   "pygments_lexer": "ipython2",
   "version": "2.7.9"
  }
 },
 "nbformat": 4,
 "nbformat_minor": 0
}
